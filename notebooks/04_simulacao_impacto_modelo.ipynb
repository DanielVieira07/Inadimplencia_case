{
 "cells": [
  {
   "cell_type": "code",
   "execution_count": 1,
   "id": "d8363802",
   "metadata": {},
   "outputs": [],
   "source": [
    "#importando bibliotecas \n",
    "import pandas as pd \n",
    "import joblib\n",
    "from sklearn.metrics import confusion_matrix, classification_report\n",
    "import matplotlib.pyplot as plt\n",
    "import seaborn as sns "
   ]
  },
  {
   "cell_type": "code",
   "execution_count": 2,
   "id": "0af6423d",
   "metadata": {},
   "outputs": [],
   "source": [
    "#carregando o modelo treinado e dados processados \n",
    "modelo = joblib.load(r\"C:\\Users\\Daniel Vieira\\Desktop\\inadiplencia_case\\data\\models\\Random_Forest.pkl\")\n",
    "df = pd.read_csv(r\"C:\\Users\\Daniel Vieira\\Desktop\\inadiplencia_case\\data\\processed\\df_modelado.csv\")"
   ]
  },
  {
   "cell_type": "code",
   "execution_count": 4,
   "id": "3409d0fc",
   "metadata": {},
   "outputs": [
    {
     "data": {
      "text/plain": [
       "0      0\n",
       "1      1\n",
       "2      1\n",
       "3      0\n",
       "4      1\n",
       "      ..\n",
       "995    0\n",
       "996    1\n",
       "997    1\n",
       "998    1\n",
       "999    1\n",
       "Name: Status, Length: 1000, dtype: int64"
      ]
     },
     "execution_count": 4,
     "metadata": {},
     "output_type": "execute_result"
    }
   ],
   "source": [
    "X = df.drop(\"Status\", axis=1) #previsores \n",
    "y = df[\"Status\"] #classe \n",
    "y"
   ]
  },
  {
   "cell_type": "code",
   "execution_count": 5,
   "id": "a3ee349d",
   "metadata": {},
   "outputs": [
    {
     "name": "stderr",
     "output_type": "stream",
     "text": [
      "C:\\Users\\Daniel Vieira\\AppData\\Roaming\\Python\\Python312\\site-packages\\sklearn\\utils\\validation.py:2732: UserWarning: X has feature names, but RandomForestClassifier was fitted without feature names\n",
      "  warnings.warn(\n"
     ]
    }
   ],
   "source": [
    "#Gerar previsoes de probabilidade\n",
    "y_proba = modelo.predict_proba(X)[:, 1]"
   ]
  },
  {
   "cell_type": "code",
   "execution_count": 6,
   "id": "e5d8f94c",
   "metadata": {},
   "outputs": [],
   "source": [
    "#definir limiar de decisao classificar inadimplente \n",
    "limiar = 0.7\n",
    "y_pred_simulado = (y_proba > limiar).astype(int)"
   ]
  },
  {
   "cell_type": "code",
   "execution_count": null,
   "id": "a731e072",
   "metadata": {},
   "outputs": [
    {
     "data": {
      "image/png": "[encoded data removed]",
      "text/plain": [
       "<Figure size 500x500 with 1 Axes>"
      ]
     },
     "metadata": {},
     "output_type": "display_data"
    }
   ],
   "source": [
    "#Matriz de confusão \n",
    "cm = confusion_matrix(y, y_pred_simulado)\n",
    "plt.figure(figsize=(5,5))\n",
    "sns.heatmap(cm, annot=True, fmt=\"d\", cmap=\"Blues\", cbar=False)\n",
    "plt.title(f\"Matriz de Confusão - Limiar {limiar}\")\n",
    "plt.xlabel(\"Previsto\")\n",
    "plt.ylabel(\"Real\")\n",
    "plt.tight_layout()\n",
    "plt.show()"
   ]
  },
  {
   "cell_type": "code",
   "execution_count": 10,
   "id": "c0a0037a",
   "metadata": {},
   "outputs": [
    {
     "name": "stdout",
     "output_type": "stream",
     "text": [
      "              precision    recall  f1-score   support\n",
      "\n",
      "           0       0.75      0.95      0.84       300\n",
      "           1       0.98      0.86      0.92       700\n",
      "\n",
      "    accuracy                           0.89      1000\n",
      "   macro avg       0.86      0.91      0.88      1000\n",
      "weighted avg       0.91      0.89      0.89      1000\n",
      "\n"
     ]
    }
   ],
   "source": [
    "#Relatório detalhado de desempenho \n",
    "print(classification_report(y, y_pred_simulado))"
   ]
  },
  {
   "cell_type": "code",
   "execution_count": null,
   "id": "2efbc227",
   "metadata": {},
   "outputs": [],
   "source": [
    "#o modelo acerta 89% das decisoes com o limiar de 0.7, identifica 95% dos clientes inadimplentes, reduzindo o risco de crédito.\n",
    "#ao mesmo tempo, aprova adimplente com precisão de 98% garantindo alta confiança na concessão."
   ]
  }
 ],
 "metadata": {
  "kernelspec": {
   "display_name": "base",
   "language": "python",
   "name": "python3"
  },
  "language_info": {
   "codemirror_mode": {
    "name": "ipython",
    "version": 3
   },
   "file_extension": ".py",
   "mimetype": "text/x-python",
   "name": "python",
   "nbconvert_exporter": "python",
   "pygments_lexer": "ipython3",
   "version": "3.12.7"
  }
 },
 "nbformat": 4,
 "nbformat_minor": 5
}
