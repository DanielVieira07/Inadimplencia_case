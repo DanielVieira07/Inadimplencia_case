{
 "cells": [
  {
   "cell_type": "code",
   "execution_count": null,
   "id": "da252e44",
   "metadata": {},
   "outputs": [],
   "source": [
    "#importando bibliotecas \n",
    "from sklearn.model_selection import train_test_split\n",
    "from sklearn.metrics import accuracy_score, confusion_matrix, precision_score, recall_score\n",
    "import sys \n",
    "import os\n",
    "import pandas as pd \n",
    "#procurando o arquivo modeling fora do notebook\n",
    "sys.path.append(os.path.abspath(\"../src\"))\n",
    "sys.path.append(os.path.abspath(\"../src/evaluation\"))\n",
    "from modeling import Decisiontree, KNN, RandomForest\n",
    "from evaluation import plot_confusion_matrix"
   ]
  },
  {
   "cell_type": "code",
   "execution_count": 13,
   "id": "e40ec39f",
   "metadata": {},
   "outputs": [
    {
     "data": {
      "text/html": [
       "<div>\n",
       "<style scoped>\n",
       "    .dataframe tbody tr th:only-of-type {\n",
       "        vertical-align: middle;\n",
       "    }\n",
       "\n",
       "    .dataframe tbody tr th {\n",
       "        vertical-align: top;\n",
       "    }\n",
       "\n",
       "    .dataframe thead th {\n",
       "        text-align: right;\n",
       "    }\n",
       "</style>\n",
       "<table border=\"1\" class=\"dataframe\">\n",
       "  <thead>\n",
       "    <tr style=\"text-align: right;\">\n",
       "      <th></th>\n",
       "      <th>IDCREDITO</th>\n",
       "      <th>Duracao</th>\n",
       "      <th>Valor</th>\n",
       "      <th>TempoParcelamento</th>\n",
       "      <th>Idade</th>\n",
       "      <th>EmprestimoExistente</th>\n",
       "      <th>SocioEmpresa</th>\n",
       "      <th>Estrangeiro</th>\n",
       "      <th>EMPREGO</th>\n",
       "      <th>ESTADOCIVIL</th>\n",
       "      <th>FIADOR</th>\n",
       "      <th>HABITACAO</th>\n",
       "      <th>HISTORICO</th>\n",
       "      <th>OUTROSFINANCIAMENTOS</th>\n",
       "      <th>PROFISSAO</th>\n",
       "      <th>PROPOSITO</th>\n",
       "      <th>INVESTIMENTOS</th>\n",
       "      <th>Status</th>\n",
       "    </tr>\n",
       "  </thead>\n",
       "  <tbody>\n",
       "    <tr>\n",
       "      <th>0</th>\n",
       "      <td>2</td>\n",
       "      <td>48</td>\n",
       "      <td>5951</td>\n",
       "      <td>2</td>\n",
       "      <td>22</td>\n",
       "      <td>1</td>\n",
       "      <td>0</td>\n",
       "      <td>0</td>\n",
       "      <td>0</td>\n",
       "      <td>2</td>\n",
       "      <td>2</td>\n",
       "      <td>2</td>\n",
       "      <td>2</td>\n",
       "      <td>2</td>\n",
       "      <td>3</td>\n",
       "      <td>6</td>\n",
       "      <td>2</td>\n",
       "      <td>0</td>\n",
       "    </tr>\n",
       "    <tr>\n",
       "      <th>1</th>\n",
       "      <td>3</td>\n",
       "      <td>12</td>\n",
       "      <td>2096</td>\n",
       "      <td>2</td>\n",
       "      <td>49</td>\n",
       "      <td>1</td>\n",
       "      <td>0</td>\n",
       "      <td>0</td>\n",
       "      <td>1</td>\n",
       "      <td>3</td>\n",
       "      <td>2</td>\n",
       "      <td>2</td>\n",
       "      <td>1</td>\n",
       "      <td>2</td>\n",
       "      <td>2</td>\n",
       "      <td>1</td>\n",
       "      <td>2</td>\n",
       "      <td>1</td>\n",
       "    </tr>\n",
       "    <tr>\n",
       "      <th>2</th>\n",
       "      <td>4</td>\n",
       "      <td>42</td>\n",
       "      <td>7882</td>\n",
       "      <td>2</td>\n",
       "      <td>45</td>\n",
       "      <td>1</td>\n",
       "      <td>0</td>\n",
       "      <td>0</td>\n",
       "      <td>1</td>\n",
       "      <td>3</td>\n",
       "      <td>3</td>\n",
       "      <td>1</td>\n",
       "      <td>2</td>\n",
       "      <td>2</td>\n",
       "      <td>3</td>\n",
       "      <td>2</td>\n",
       "      <td>2</td>\n",
       "      <td>1</td>\n",
       "    </tr>\n",
       "    <tr>\n",
       "      <th>3</th>\n",
       "      <td>5</td>\n",
       "      <td>24</td>\n",
       "      <td>4870</td>\n",
       "      <td>3</td>\n",
       "      <td>53</td>\n",
       "      <td>2</td>\n",
       "      <td>0</td>\n",
       "      <td>0</td>\n",
       "      <td>0</td>\n",
       "      <td>3</td>\n",
       "      <td>2</td>\n",
       "      <td>1</td>\n",
       "      <td>0</td>\n",
       "      <td>2</td>\n",
       "      <td>3</td>\n",
       "      <td>8</td>\n",
       "      <td>2</td>\n",
       "      <td>0</td>\n",
       "    </tr>\n",
       "    <tr>\n",
       "      <th>4</th>\n",
       "      <td>6</td>\n",
       "      <td>36</td>\n",
       "      <td>9055</td>\n",
       "      <td>2</td>\n",
       "      <td>35</td>\n",
       "      <td>1</td>\n",
       "      <td>1</td>\n",
       "      <td>0</td>\n",
       "      <td>0</td>\n",
       "      <td>3</td>\n",
       "      <td>2</td>\n",
       "      <td>1</td>\n",
       "      <td>2</td>\n",
       "      <td>2</td>\n",
       "      <td>2</td>\n",
       "      <td>1</td>\n",
       "      <td>4</td>\n",
       "      <td>1</td>\n",
       "    </tr>\n",
       "    <tr>\n",
       "      <th>...</th>\n",
       "      <td>...</td>\n",
       "      <td>...</td>\n",
       "      <td>...</td>\n",
       "      <td>...</td>\n",
       "      <td>...</td>\n",
       "      <td>...</td>\n",
       "      <td>...</td>\n",
       "      <td>...</td>\n",
       "      <td>...</td>\n",
       "      <td>...</td>\n",
       "      <td>...</td>\n",
       "      <td>...</td>\n",
       "      <td>...</td>\n",
       "      <td>...</td>\n",
       "      <td>...</td>\n",
       "      <td>...</td>\n",
       "      <td>...</td>\n",
       "      <td>...</td>\n",
       "    </tr>\n",
       "    <tr>\n",
       "      <th>995</th>\n",
       "      <td>505</td>\n",
       "      <td>24</td>\n",
       "      <td>1207</td>\n",
       "      <td>4</td>\n",
       "      <td>24</td>\n",
       "      <td>1</td>\n",
       "      <td>0</td>\n",
       "      <td>0</td>\n",
       "      <td>2</td>\n",
       "      <td>2</td>\n",
       "      <td>2</td>\n",
       "      <td>0</td>\n",
       "      <td>2</td>\n",
       "      <td>2</td>\n",
       "      <td>3</td>\n",
       "      <td>8</td>\n",
       "      <td>2</td>\n",
       "      <td>0</td>\n",
       "    </tr>\n",
       "    <tr>\n",
       "      <th>996</th>\n",
       "      <td>834</td>\n",
       "      <td>24</td>\n",
       "      <td>5084</td>\n",
       "      <td>2</td>\n",
       "      <td>42</td>\n",
       "      <td>1</td>\n",
       "      <td>1</td>\n",
       "      <td>0</td>\n",
       "      <td>3</td>\n",
       "      <td>2</td>\n",
       "      <td>2</td>\n",
       "      <td>2</td>\n",
       "      <td>2</td>\n",
       "      <td>2</td>\n",
       "      <td>3</td>\n",
       "      <td>6</td>\n",
       "      <td>4</td>\n",
       "      <td>1</td>\n",
       "    </tr>\n",
       "    <tr>\n",
       "      <th>997</th>\n",
       "      <td>234</td>\n",
       "      <td>18</td>\n",
       "      <td>866</td>\n",
       "      <td>4</td>\n",
       "      <td>25</td>\n",
       "      <td>1</td>\n",
       "      <td>0</td>\n",
       "      <td>0</td>\n",
       "      <td>0</td>\n",
       "      <td>1</td>\n",
       "      <td>3</td>\n",
       "      <td>2</td>\n",
       "      <td>2</td>\n",
       "      <td>2</td>\n",
       "      <td>2</td>\n",
       "      <td>6</td>\n",
       "      <td>2</td>\n",
       "      <td>1</td>\n",
       "    </tr>\n",
       "    <tr>\n",
       "      <th>998</th>\n",
       "      <td>474</td>\n",
       "      <td>6</td>\n",
       "      <td>1238</td>\n",
       "      <td>4</td>\n",
       "      <td>36</td>\n",
       "      <td>1</td>\n",
       "      <td>1</td>\n",
       "      <td>0</td>\n",
       "      <td>4</td>\n",
       "      <td>3</td>\n",
       "      <td>2</td>\n",
       "      <td>2</td>\n",
       "      <td>2</td>\n",
       "      <td>2</td>\n",
       "      <td>0</td>\n",
       "      <td>4</td>\n",
       "      <td>4</td>\n",
       "      <td>1</td>\n",
       "    </tr>\n",
       "    <tr>\n",
       "      <th>999</th>\n",
       "      <td>565</td>\n",
       "      <td>24</td>\n",
       "      <td>4712</td>\n",
       "      <td>4</td>\n",
       "      <td>37</td>\n",
       "      <td>2</td>\n",
       "      <td>1</td>\n",
       "      <td>0</td>\n",
       "      <td>0</td>\n",
       "      <td>3</td>\n",
       "      <td>2</td>\n",
       "      <td>2</td>\n",
       "      <td>2</td>\n",
       "      <td>0</td>\n",
       "      <td>0</td>\n",
       "      <td>0</td>\n",
       "      <td>4</td>\n",
       "      <td>1</td>\n",
       "    </tr>\n",
       "  </tbody>\n",
       "</table>\n",
       "<p>1000 rows × 18 columns</p>\n",
       "</div>"
      ],
      "text/plain": [
       "     IDCREDITO  Duracao  Valor  ...  PROPOSITO  INVESTIMENTOS  Status\n",
       "0            2       48   5951  ...          6              2       0\n",
       "1            3       12   2096  ...          1              2       1\n",
       "2            4       42   7882  ...          2              2       1\n",
       "3            5       24   4870  ...          8              2       0\n",
       "4            6       36   9055  ...          1              4       1\n",
       "..         ...      ...    ...  ...        ...            ...     ...\n",
       "995        505       24   1207  ...          8              2       0\n",
       "996        834       24   5084  ...          6              4       1\n",
       "997        234       18    866  ...          6              2       1\n",
       "998        474        6   1238  ...          4              4       1\n",
       "999        565       24   4712  ...          0              4       1\n",
       "\n",
       "[1000 rows x 18 columns]"
      ]
     },
     "execution_count": 13,
     "metadata": {},
     "output_type": "execute_result"
    }
   ],
   "source": [
    "#importando o dataset modelado \n",
    "df = pd.read_csv(r\"../data/processed/df_modelado.csv\")\n",
    "df"
   ]
  },
  {
   "cell_type": "code",
   "execution_count": 6,
   "id": "98c13dc2",
   "metadata": {},
   "outputs": [],
   "source": [
    "#utilizando os modelos \n",
    "modelos = {\n",
    "    \"Decision Tree\": Decisiontree(),\n",
    "    \"KNN\": KNN(),\n",
    "    \"Random Forest\": RandomForest()\n",
    "}"
   ]
  },
  {
   "cell_type": "code",
   "execution_count": 44,
   "id": "bfcacbbd",
   "metadata": {},
   "outputs": [
    {
     "data": {
      "text/plain": [
       "array([[   2,   48, 5951, ...,    3,    6,    2],\n",
       "       [   3,   12, 2096, ...,    2,    1,    2],\n",
       "       [   4,   42, 7882, ...,    3,    2,    2],\n",
       "       ...,\n",
       "       [ 234,   18,  866, ...,    2,    6,    2],\n",
       "       [ 474,    6, 1238, ...,    0,    4,    4],\n",
       "       [ 565,   24, 4712, ...,    0,    0,    4]])"
      ]
     },
     "execution_count": 44,
     "metadata": {},
     "output_type": "execute_result"
    }
   ],
   "source": [
    "#Separando x: previsores e y: classe\n",
    "X = df.drop(\"Status\", axis=1).values\n",
    "y = df[\"Status\"].values\n",
    "X"
   ]
  },
  {
   "cell_type": "code",
   "execution_count": 70,
   "id": "1b16c861",
   "metadata": {},
   "outputs": [
    {
     "data": {
      "text/plain": [
       "array([[  95,   12, 1318, ...,    3,    8,    3],\n",
       "       [ 881,   24, 7814, ...,    0,    9,    2],\n",
       "       [ 308,   12,  727, ...,    2,    6,    0],\n",
       "       ...,\n",
       "       [  56,    6,  783, ...,    2,    8,    4],\n",
       "       [ 507,   15, 2360, ...,    3,    9,    1],\n",
       "       [  16,   24, 1282, ...,    2,    6,    0]])"
      ]
     },
     "execution_count": 70,
     "metadata": {},
     "output_type": "execute_result"
    }
   ],
   "source": [
    "#Dividindo a base de dados em 70% para treino e 30% para teste\n",
    "X_train, X_test, y_train, y_test = train_test_split(X, y, test_size=0.3, random_state=0)\n",
    "\n",
    "X_test"
   ]
  },
  {
   "cell_type": "code",
   "execution_count": 71,
   "id": "54724a80",
   "metadata": {},
   "outputs": [],
   "source": [
    "#criação e treinando os modelos \n",
    "resultado = {}\n",
    "for nome, modelo in modelos.items():\n",
    "    modelo.fit(X_train, y_train)\n",
    "    y_pred = modelo.predict(X_test)\n",
    "\n",
    "    acc = accuracy_score(y_test, y_pred)\n",
    "    prec = precision_score(y_test, y_pred)\n",
    "    rec = recall_score(y_test, y_pred)\n",
    "    resultado[nome] = [acc, prec, rec]"
   ]
  },
  {
   "cell_type": "code",
   "execution_count": 72,
   "id": "8eec18c0",
   "metadata": {},
   "outputs": [
    {
     "name": "stdout",
     "output_type": "stream",
     "text": [
      "               Accuracy  Precision    Recall\n",
      "Random Forest  0.793333   0.832653  0.906667\n",
      "Decision Tree  0.703333   0.830097  0.760000\n",
      "KNN            0.673333   0.763485  0.817778\n"
     ]
    }
   ],
   "source": [
    "df_resultados = pd.DataFrame.from_dict(\n",
    "    resultado, orient='index',\n",
    "    columns=[\"Accuracy\", \"Precision\", \"Recall\"]\n",
    ")\n",
    "\n",
    "# Ordena pelo melhor accuracy (ou qualquer métrica que queira priorizar)\n",
    "df_resultados = df_resultados.sort_values(by=\"Accuracy\", ascending=False)\n",
    "\n",
    "# Mostra\n",
    "print(df_resultados)"
   ]
  },
  {
   "cell_type": "code",
   "execution_count": 73,
   "id": "241952f8",
   "metadata": {},
   "outputs": [
    {
     "data": {
      "image/png": "[encoded data removed]",
      "text/plain": [
       "<Figure size 1000x600 with 1 Axes>"
      ]
     },
     "metadata": {},
     "output_type": "display_data"
    }
   ],
   "source": [
    "import seaborn as sns\n",
    "import matplotlib.pyplot as plt\n",
    "\n",
    "df_resultados.reset_index(inplace=True)\n",
    "df_resultados.rename(columns={\"index\": \"Modelo\"}, inplace=True)\n",
    "\n",
    "df_plot = df_resultados.melt(id_vars=\"Modelo\", var_name=\"Métrica\", value_name=\"Valor\")\n",
    "\n",
    "plt.figure(figsize=(10, 6))\n",
    "sns.barplot(data=df_plot, x=\"Modelo\", y=\"Valor\", hue=\"Métrica\")\n",
    "plt.title(\"Comparação de Modelos\")\n",
    "plt.ylim(0, 1)\n",
    "plt.tight_layout()\n",
    "plt.show()\n"
   ]
  },
  {
   "cell_type": "code",
   "execution_count": 74,
   "id": "d030af43",
   "metadata": {},
   "outputs": [
    {
     "data": {
      "image/png": "[encoded data removed]",
      "text/plain": [
       "<Figure size 800x600 with 1 Axes>"
      ]
     },
     "metadata": {},
     "output_type": "display_data"
    }
   ],
   "source": [
    "#criando a matriz de confusão \n",
    "plot_confusion_matrix(y_test, y_pred, nome_modelo = \"Decision Tree\")"
   ]
  },
  {
   "cell_type": "code",
   "execution_count": 75,
   "id": "dc593365",
   "metadata": {},
   "outputs": [
    {
     "data": {
      "image/png": "[encoded data removed]",
      "text/plain": [
       "<Figure size 800x600 with 1 Axes>"
      ]
     },
     "metadata": {},
     "output_type": "display_data"
    }
   ],
   "source": [
    "plot_confusion_matrix(y_test, y_pred, nome_modelo = \"KNN\")"
   ]
  },
  {
   "cell_type": "code",
   "execution_count": 76,
   "id": "8d52180c",
   "metadata": {},
   "outputs": [
    {
     "data": {
      "image/png": "[encoded data removed]",
      "text/plain": [
       "<Figure size 800x600 with 1 Axes>"
      ]
     },
     "metadata": {},
     "output_type": "display_data"
    }
   ],
   "source": [
    "#modelo Random Forest \n",
    "plot_confusion_matrix(y_test, y_pred, nome_modelo = \"Random Forest\")    "
   ]
  },
  {
   "cell_type": "code",
   "execution_count": 88,
   "id": "81cb11b4",
   "metadata": {},
   "outputs": [
    {
     "name": "stdout",
     "output_type": "stream",
     "text": [
      "Modelo Random Forest salvo com sucesso!\n"
     ]
    }
   ],
   "source": [
    "import joblib\n",
    "\n",
    "for nome, modelo in modelos.items():\n",
    "    if nome == \"Random Forest\":\n",
    "        joblib.dump(modelo, r\"C:\\Users\\Daniel Vieira\\Desktop\\inadiplencia_case\\data\\models/Random_Forest.pkl\")\n",
    "        print(f\"Modelo {nome} salvo com sucesso!\")\n"
   ]
  }
 ],
 "metadata": {
  "kernelspec": {
   "display_name": "base",
   "language": "python",
   "name": "python3"
  },
  "language_info": {
   "codemirror_mode": {
    "name": "ipython",
    "version": 3
   },
   "file_extension": ".py",
   "mimetype": "text/x-python",
   "name": "python",
   "nbconvert_exporter": "python",
   "pygments_lexer": "ipython3",
   "version": "3.12.7"
  }
 },
 "nbformat": 4,
 "nbformat_minor": 5
}
